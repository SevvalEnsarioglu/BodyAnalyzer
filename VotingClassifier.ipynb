{
 "cells": [
  {
   "cell_type": "code",
   "execution_count": 44,
   "id": "8ed8443a",
   "metadata": {},
   "outputs": [],
   "source": [
    "import pandas as pd\n",
    "import numpy as np\n",
    "from sklearn.model_selection import train_test_split\n",
    "from sklearn.preprocessing import StandardScaler\n",
    "from sklearn.ensemble import VotingClassifier\n",
    "from sklearn.linear_model import LogisticRegression\n",
    "from lightgbm import LGBMClassifier\n",
    "from xgboost import XGBClassifier\n",
    "from sklearn.metrics import accuracy_score, classification_report, confusion_matrix\n"
   ]
  },
  {
   "cell_type": "code",
   "execution_count": 45,
   "id": "cefd9fd0",
   "metadata": {},
   "outputs": [],
   "source": [
    "class SklearnLGBM(LGBMClassifier):\n",
    "    def __sklearn_tags__(self):\n",
    "        return {\"estimator_type\": \"classifier\", \"requires_y\": True}\n",
    "\n",
    "class SklearnXGB(XGBClassifier):\n",
    "    def __sklearn_tags__(self):\n",
    "        return {\"estimator_type\": \"classifier\", \"requires_y\": True}\n"
   ]
  },
  {
   "cell_type": "code",
   "execution_count": 46,
   "id": "0bce6f7d",
   "metadata": {},
   "outputs": [],
   "source": [
    "df = pd.read_csv(\"cleaned_data.csv\")\n",
    "\n",
    "X = df.drop(columns=['class'])\n",
    "y = df['class']\n",
    "\n",
    "X_train, X_test, y_train, y_test = train_test_split(\n",
    "    X, y, test_size=0.2, random_state=42, stratify=y\n",
    ")\n"
   ]
  },
  {
   "cell_type": "code",
   "execution_count": 47,
   "id": "3824dd64",
   "metadata": {},
   "outputs": [],
   "source": [
    "model_lr = LogisticRegression(max_iter=1000, random_state=42)\n",
    "model_lgb = SklearnLGBM(random_state=42)\n",
    "model_xgb = SklearnXGB(use_label_encoder=False, eval_metric='mlogloss', random_state=42)\n"
   ]
  },
  {
   "cell_type": "code",
   "execution_count": 48,
   "id": "63823231",
   "metadata": {},
   "outputs": [],
   "source": [
    "voting_clf = VotingClassifier(\n",
    "    estimators=[\n",
    "        ('lr', model_lr),\n",
    "        ('lgb', model_lgb),\n",
    "        ('xgb', model_xgb)\n",
    "    ],\n",
    "    voting='soft'  # soft da artık kullanılabilir\n",
    ")\n"
   ]
  },
  {
   "cell_type": "code",
   "execution_count": 50,
   "id": "84e7a2e8",
   "metadata": {},
   "outputs": [],
   "source": [
    "from sklearn.ensemble import RandomForestClassifier, GradientBoostingClassifier\n",
    "from sklearn.linear_model import LogisticRegression\n",
    "from sklearn.ensemble import VotingClassifier\n",
    "\n",
    "model_lr = LogisticRegression(max_iter=1000, random_state=42)\n",
    "model_rf = RandomForestClassifier(n_estimators=100, random_state=42)\n",
    "model_gb = GradientBoostingClassifier(n_estimators=100, random_state=42)\n",
    "\n",
    "voting_clf = VotingClassifier(\n",
    "    estimators=[\n",
    "        ('lr', model_lr),\n",
    "        ('rf', model_rf),\n",
    "        ('gb', model_gb)\n",
    "    ],\n",
    "    voting='soft'\n",
    ")\n"
   ]
  },
  {
   "cell_type": "code",
   "execution_count": 51,
   "id": "c7065260",
   "metadata": {},
   "outputs": [
    {
     "name": "stderr",
     "output_type": "stream",
     "text": [
      "/Library/Frameworks/Python.framework/Versions/3.12/lib/python3.12/site-packages/sklearn/linear_model/_logistic.py:465: ConvergenceWarning: lbfgs failed to converge (status=1):\n",
      "STOP: TOTAL NO. of ITERATIONS REACHED LIMIT.\n",
      "\n",
      "Increase the number of iterations (max_iter) or scale the data as shown in:\n",
      "    https://scikit-learn.org/stable/modules/preprocessing.html\n",
      "Please also refer to the documentation for alternative solver options:\n",
      "    https://scikit-learn.org/stable/modules/linear_model.html#logistic-regression\n",
      "  n_iter_i = _check_optimize_result(\n"
     ]
    },
    {
     "name": "stdout",
     "output_type": "stream",
     "text": [
      "VotingClassifier Accuracy: 0.7223\n",
      "[[481  83  42   8]\n",
      " [ 46 425 127  58]\n",
      " [ 18  94 396 150]\n",
      " [  1   5  87 568]]\n",
      "              precision    recall  f1-score   support\n",
      "\n",
      "           1       0.88      0.78      0.83       614\n",
      "           2       0.70      0.65      0.67       656\n",
      "           3       0.61      0.60      0.60       658\n",
      "           4       0.72      0.86      0.79       661\n",
      "\n",
      "    accuracy                           0.72      2589\n",
      "   macro avg       0.73      0.72      0.72      2589\n",
      "weighted avg       0.73      0.72      0.72      2589\n",
      "\n"
     ]
    }
   ],
   "source": [
    "voting_clf.fit(X_train, y_train)\n",
    "y_pred = voting_clf.predict(X_test)\n",
    "\n",
    "accuracy = accuracy_score(y_test, y_pred)\n",
    "print(f\"VotingClassifier Accuracy: {accuracy:.4f}\")\n",
    "\n",
    "print(confusion_matrix(y_test, y_pred))\n",
    "print(classification_report(y_test, y_pred))\n"
   ]
  }
 ],
 "metadata": {
  "kernelspec": {
   "display_name": "Python 3",
   "language": "python",
   "name": "python3"
  },
  "language_info": {
   "codemirror_mode": {
    "name": "ipython",
    "version": 3
   },
   "file_extension": ".py",
   "mimetype": "text/x-python",
   "name": "python",
   "nbconvert_exporter": "python",
   "pygments_lexer": "ipython3",
   "version": "3.12.1"
  }
 },
 "nbformat": 4,
 "nbformat_minor": 5
}
